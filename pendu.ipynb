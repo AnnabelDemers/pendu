{
 "cells": [
  {
   "cell_type": "code",
   "execution_count": null,
   "metadata": {},
   "outputs": [],
   "source": [
    "#pendu\n",
    "from random import randrange #pour le chiffre au hazard\n",
    "import unicodedata #to be able to handle accented characters well\n",
    "import string #to recognize letters\n",
    "\n",
    "print(\"bienvenue au jeu du bonhomme pendu\")\n",
    "fichiertexte = '/home/jovyan/work/expressions.txt'\n",
    "#fichiertexte = 'D:\\\\Dropbox\\\\filez\\\\annabel\\\\pendu\\\\animaux.txt'\n",
    "liste_expressions = [line.rstrip('\\n') for line in open(fichiertexte, 'r', encoding='utf8')]\n",
    "expression_hazard = liste_expressions[randrange(len(liste_expressions))]\n",
    "#expression_hazard = \"tomber dans les bras de Morphée\"\n",
    "\n",
    "nombre_vies = 7\n",
    "lettres_devinees = set()  #store all guessed letters in a set\n",
    "stringlist = list(expression_hazard) #to iterate over each letter with a comprehension\n",
    "\n",
    "def afficher_probleme():\n",
    "    #replacing letters of a string with hyphens\n",
    "    displaylist = [letter.replace(letter,\"-\") if \\\n",
    "                    #only replace letter charachters, not spaces, apostrophes\n",
    "                   unicodedata.normalize('NFKD', letter).encode('ASCII', 'ignore').decode() in string.ascii_letters \\\n",
    "                    #and only letters that have not been guesses by the user (forcing lower case for the comparison)\n",
    "                   and unicodedata.normalize('NFKD', letter).encode('ASCII', 'ignore').decode().lower() not in lettres_devinees \\\n",
    "                   else letter for letter in stringlist]\n",
    "    print(\"\\n\"+\"\".join(displaylist))\n",
    "    if len(set(lettres_devinees) - lettres_uniques) > 0: print(\"\\nlettre erronées: \"+\" \".join(set(lettres_devinees) - lettres_uniques)+\"\\n\")\n",
    "\n",
    "#set of unique letters in expression\n",
    "#combines all forms of accented letters, forcing lower case, and removing the spaces\n",
    "lettres_uniques = set(unicodedata.normalize('NFKD', expression_hazard).encode('ASCII', 'ignore').decode().lower()) - {' '}\n",
    "\n",
    "afficher_probleme()\n",
    "#fewer incorrect letters than number of lives\n",
    "while len(set(lettres_devinees) - lettres_uniques) < nombre_vies and \\\n",
    "        len(lettres_uniques - lettres_devinees) > 0: #some letters yet to be discovered\n",
    "    print(\"il vous reste \"+ str(nombre_vies - len(set(lettres_devinees) - lettres_uniques)) + \" vies\")\n",
    "\n",
    "    lettre = input(\"entrez une lettre: \")\n",
    "    if lettre not in lettres_devinees:\n",
    "        lettres_devinees.add(lettre.lower())\n",
    "        afficher_probleme()\n",
    "    else:\n",
    "        print(\"vous avez déjà essayé la lettre \"+lettre)\n",
    "\n",
    "if len(lettres_uniques - lettres_devinees) == 0:\n",
    "    print(\"\\nbravo, vous avez trouvé la réponse\")\n",
    "else:\n",
    "    print(\"\\ndésolé, vous avez perdu\")\n",
    "    print(\"la réponse était:\")\n",
    "    print(expression_hazard)"
   ]
  }
 ],
 "metadata": {
  "kernelspec": {
   "display_name": "Python 3",
   "language": "python",
   "name": "python3"
  },
  "language_info": {
   "codemirror_mode": {
    "name": "ipython",
    "version": 3
   },
   "file_extension": ".py",
   "mimetype": "text/x-python",
   "name": "python",
   "nbconvert_exporter": "python",
   "pygments_lexer": "ipython3",
   "version": "3.7.6"
  }
 },
 "nbformat": 4,
 "nbformat_minor": 4
}
